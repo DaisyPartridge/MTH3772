{
  "cells": [
    {
      "cell_type": "raw",
      "metadata": {},
      "source": [
        "---\n",
        "title: \"Dockerfile\"\n",
        "editor: visual\n",
        "---"
      ],
      "id": "c29a0af4"
    },
    {
      "cell_type": "code",
      "metadata": {},
      "source": [
        "from vetiver import VetiverModel\n",
        "from pins import pin_write, pin_read, board_connect, board_temp\n",
        "import duckdb\n",
        "import pandas as pd\n",
        "from sklearn.linear_model import LinearRegression\n",
        "\n",
        "# Load and preprocess your data\n",
        "df = penguins.load_penguins().dropna()\n",
        "X = pd.get_dummies(df[['bill_length_mm', 'species', 'sex']], drop_first=True)\n",
        "y = df['body_mass_g']\n",
        "\n",
        "# Train your model (assuming you've imported LinearRegression)\n",
        "model = LinearRegression().fit(X, y)\n",
        "\n",
        "# Create a VetiverModel\n",
        "v = VetiverModel(model, model_name='penguin_model', prototype_data=X)\n",
        "\n",
        "# Pin your model\n",
        "pin_write(b, \"penguin_model\")\n",
        "\n",
        "# Connect to the board\n",
        "board_connect('data/model')\n",
        "\n",
        "# Write the model to the board\n",
        "pin_write('model', v)\n",
        "\n",
        "# You can also use pin_read to read the model back if needed\n",
        "# Example: loaded_model = pin_read('model')"
      ],
      "id": "1ab7b380",
      "execution_count": null,
      "outputs": []
    }
  ],
  "metadata": {
    "kernelspec": {
      "name": "python3",
      "language": "python",
      "display_name": "Python 3 (ipykernel)"
    }
  },
  "nbformat": 4,
  "nbformat_minor": 5
}