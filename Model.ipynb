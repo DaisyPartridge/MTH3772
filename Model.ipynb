{
  "cells": [
    {
      "cell_type": "raw",
      "metadata": {},
      "source": [
        "---\n",
        "title: \"Model\"\n",
        "format:\n",
        "  html:\n",
        "    code-fold: true\n",
        "---"
      ],
      "id": "7d0edb8e"
    },
    {
      "cell_type": "code",
      "metadata": {},
      "source": [
        "import duckdb\n",
        "from palmerpenguins import penguins\n",
        "from pandas import get_dummies\n",
        "import numpy as np\n",
        "from sklearn.linear_model import LinearRegression\n",
        "from sklearn import preprocessing\n",
        "from vetiver import VetiverModel\n",
        "from vetiver import VetiverModel, vetiver_pin_write\n",
        "from vetiver import VetiverAPI\n",
        "from pins import board_folder"
      ],
      "id": "fb25432c",
      "execution_count": null,
      "outputs": []
    },
    {
      "cell_type": "code",
      "metadata": {},
      "source": [
        "from vetiver import VetiverModel, vetiver_pin_write\n",
        "import duckdb\n",
        "import pandas as pd\n",
        "from sklearn.linear_model import LinearRegression\n",
        "\n",
        "# Load and preprocess your data\n",
        "df = penguins.load_penguins().dropna()\n",
        "X = get_dummies(df[['bill_length_mm', 'species', 'sex']], drop_first=True)\n",
        "y = df['body_mass_g']\n",
        "\n",
        "# Train your model\n",
        "model = LinearRegression().fit(X, y)\n",
        "\n",
        "v = VetiverModel(model, model_name = 'penguin_model', prototype_data = X)\n",
        "\n",
        "# Create a VetiverModel\n",
        "b = board_folder('data/model', allow_pickle_read=True)\n",
        "\n",
        "\n",
        "# Write the VetiverModel to the pin\n",
        "vetiver_pin_write(b, v)\n",
        "\n",
        "# Now you can read the VetiverModel from the pin\n",
        "v = VetiverModel.from_pin(b, 'penguin_model')\n",
        "\n",
        "# Create an API for the VetiverModel\n",
        "from vetiver import VetiverAPI\n",
        "app = VetiverAPI(v, check_prototype=True)\n",
        "#app.run(port = 8080)\n",
        "#http://localhost:8080\n",
        "\n",
        "\n",
        "\n",
        "\n",
        "import duckdb\n",
        "\n",
        "# Establish a connection to the DuckDB database\n",
        "con = duckdb.connect(database='my-db.duckdb')\n",
        "\n",
        "# Execute the SQL query, fetch the result into a DataFrame, and drop NaN values\n",
        "df = con.execute(\"SELECT * FROM penguins\").fetchdf().dropna()\n",
        "\n",
        "# Close the connection\n",
        "con.close()\n",
        "\n",
        "from vetiver import prepare_docker\n",
        "prepare_docker(b, \"penguin_model\")"
      ],
      "id": "d37e120f",
      "execution_count": null,
      "outputs": []
    },
    {
      "cell_type": "markdown",
      "metadata": {},
      "source": [
        "\\% remember to run py app.py"
      ],
      "id": "1e4d692b"
    }
  ],
  "metadata": {
    "kernelspec": {
      "name": "python3",
      "language": "python",
      "display_name": "Python 3 (ipykernel)"
    }
  },
  "nbformat": 4,
  "nbformat_minor": 5
}